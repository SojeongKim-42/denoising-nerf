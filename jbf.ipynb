{
 "cells": [
  {
   "cell_type": "code",
   "execution_count": 77,
   "metadata": {},
   "outputs": [],
   "source": [
    "from enum import Enum\n",
    "import cv2\n",
    "\n",
    "class type(Enum):\n",
    "    LOWREF = 1\n",
    "    REF =2\n",
    "    GUIDE =3\n",
    "\n",
    "def loadNobleRGB(name,obj, angle, spp=64):\n",
    "    if name == type.LOWREF:\n",
    "        image = cv2.imread('/home/cglab/jbf/results/'+obj+'/source/noble_view-' + str(angle)+ '/lowref-'+str(spp) + 'spp.exr', cv2.IMREAD_UNCHANGED)\n",
    "    elif name == type.REF:\n",
    "        image = cv2.imread('/home/cglab/jbf/results/'+obj+'/source/noble_view-' + str(angle)+ '/ref.exr', cv2.IMREAD_UNCHANGED)\n",
    "    elif name == type.GUIDE:\n",
    "        image = cv2.imread('/home/cglab/jbf/results/'+obj+'/source/noble_view-' + str(angle)+ '/guide.exr', cv2.IMREAD_UNCHANGED)\n",
    "    image = cv2.cvtColor(image, cv2.COLOR_RGBA2RGB)\n",
    "    return image\n",
    "\n",
    "\n",
    "def loadRGB(name, obj,angle=0.0, spp=64):\n",
    "    if name == type.LOWREF:\n",
    "        image = cv2.imread('/home/cglab/jbf/results/'+obj+'/source/view-' + str(angle)+ '/lowref-'+str(spp) + 'spp.exr', cv2.IMREAD_UNCHANGED)\n",
    "    elif name == type.REF:\n",
    "        image = cv2.imread('/home/cglab/jbf/results/'+obj+'/source/view-' + str(angle)+ '/ref.exr', cv2.IMREAD_UNCHANGED)\n",
    "    elif name == type.GUIDE:\n",
    "        image = cv2.imread('/home/cglab/jbf/results/'+obj+'/source/view-' + str(angle)+ '/guide.exr', cv2.IMREAD_UNCHANGED)\n",
    "    image = cv2.cvtColor(image, cv2.COLOR_RGBA2RGB)\n",
    "    return image\n",
    "        \n",
    "        "
   ]
  },
  {
   "cell_type": "code",
   "execution_count": 95,
   "metadata": {},
   "outputs": [
    {
     "data": {
      "text/plain": [
       "True"
      ]
     },
     "execution_count": 95,
     "metadata": {},
     "output_type": "execute_result"
    }
   ],
   "source": [
    "#Noble View\n",
    "import os\n",
    "os.environ[\"OPENCV_IO_ENABLE_OPENEXR\"]=\"1\"\n",
    "import cv2\n",
    " \n",
    "# image = cv2.imread('/home/cglab/mitsuba3/results/source/noble_view_angle-3.5/lowref-64sppRGB.exr', cv2.IMREAD_UNCHANGED)\n",
    "# guide = cv2.imread('/home/cglab/mitsuba3/results/source/noble_view_angle-3.5/guideRGB.exr', cv2.IMREAD_UNCHANGED)\n",
    "# ref = cv2.imread('/home/cglab/mitsuba3/results/source/noble_view_angle-3.5/refRGB.exr', cv2.IMREAD_UNCHANGED)\n",
    "angle = 24.5\n",
    "spp = 64\n",
    "obj = \"lego\"\n",
    "image = loadNobleRGB(type.LOWREF, obj, angle, spp)\n",
    "ref = loadNobleRGB(type.REF, obj, angle)\n",
    "guide = loadNobleRGB(type.GUIDE, obj, angle)\n",
    "\n",
    "\n",
    "# 20, 0.02, 2\n",
    "diameter = 20\n",
    "sig_color = 0.015 #얼마나 다른 색상까지 참고할 것인가\n",
    "sig_space = 2 #얼마나 멀리 있는 픽셀까지 참고할 것인가\n",
    "jbf=cv2.ximgproc.jointBilateralFilter(guide, image, diameter, sig_color, sig_space)\n",
    "\n",
    "# cv2.imshow('jbf', jbf)\n",
    "# cv2.waitKey(0)\n",
    "# cv2.destroyAllWindows()\n",
    "\n",
    "noble_file_name_string = 'jbf_result-' +str(spp) + 'spp.exr'\n",
    "# os.mkdir(\"/home/cglab/jbf/results/\"+obj+\"/jbf_cv2/noble_view-\"+str(angle))\n",
    "cv2.imwrite(\"/home/cglab/jbf/results/\"+obj+\"/jbf_cv2/noble_view-\"+str(angle) +\"/\"+noble_file_name_string, jbf)\n"
   ]
  },
  {
   "cell_type": "code",
   "execution_count": 96,
   "metadata": {},
   "outputs": [
    {
     "data": {
      "text/plain": [
       "True"
      ]
     },
     "execution_count": 96,
     "metadata": {},
     "output_type": "execute_result"
    }
   ],
   "source": [
    "#self-filter\n",
    "diameter = 20\n",
    "sig_color = 0.2 #얼마나 다른 색상까지 참고할 것인가\n",
    "sig_space = 0.7 #얼마나 멀리 있는 픽셀까지 참고할 것인가\n",
    "jbf=cv2.bilateralFilter(image, diameter, sig_color, sig_space)\n",
    "cv2.imwrite(\"/home/cglab/jbf/results/\"+obj+\"/jbf_cv2/noble_view-\"+str(angle)+\"/self-filtered-\"+str(spp)+\"spp.exr\", jbf)\n"
   ]
  }
 ],
 "metadata": {
  "kernelspec": {
   "display_name": "mitsuba3",
   "language": "python",
   "name": "python3"
  },
  "language_info": {
   "codemirror_mode": {
    "name": "ipython",
    "version": 3
   },
   "file_extension": ".py",
   "mimetype": "text/x-python",
   "name": "python",
   "nbconvert_exporter": "python",
   "pygments_lexer": "ipython3",
   "version": "3.12.4"
  }
 },
 "nbformat": 4,
 "nbformat_minor": 2
}
